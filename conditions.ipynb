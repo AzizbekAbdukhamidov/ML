{
 "cells": [
  {
   "cell_type": "code",
   "execution_count": 2,
   "id": "aa9c3370",
   "metadata": {},
   "outputs": [
    {
     "name": "stdout",
     "output_type": "stream",
     "text": [
      "manfiy son\n"
     ]
    }
   ],
   "source": [
    "x = int(input(\"istalgan son kiriting:\\n\"))\n",
    "if x > 0:\n",
    "    print(\"musbat son\")\n",
    "elif x < 0:\n",
    "    print(\"manfiy son\")\n",
    "else:\n",
    "    print(\"bu son nolga teng\")"
   ]
  },
  {
   "cell_type": "code",
   "execution_count": 6,
   "id": "2e58cf87",
   "metadata": {},
   "outputs": [
    {
     "name": "stdout",
     "output_type": "stream",
     "text": [
      "bu son 5 ga bo'linmidi\n"
     ]
    }
   ],
   "source": [
    "son = int(input(\"istalgan son kiriting:\\n\"))\n",
    "if son % 5 == 0:\n",
    "    print(\"bu son 5 ga bo'linadi\")\n",
    "else:\n",
    "    print(\"bu son 5 ga bo'linmidi\")"
   ]
  },
  {
   "cell_type": "code",
   "execution_count": 10,
   "id": "aaaeffcd",
   "metadata": {},
   "outputs": [
    {
     "name": "stdout",
     "output_type": "stream",
     "text": [
      "unli harf\n"
     ]
    }
   ],
   "source": [
    "soz = input(\"istalgan so'zni kiriting:\\n\")\n",
    "if soz[0] in 'aeiouAEIOU':\n",
    "    print(\"unli harf\")\n",
    "else:\n",
    "    print(\"undosh harf\")"
   ]
  }
 ],
 "metadata": {
  "kernelspec": {
   "display_name": "base",
   "language": "python",
   "name": "python3"
  },
  "language_info": {
   "codemirror_mode": {
    "name": "ipython",
    "version": 3
   },
   "file_extension": ".py",
   "mimetype": "text/x-python",
   "name": "python",
   "nbconvert_exporter": "python",
   "pygments_lexer": "ipython3",
   "version": "3.11.4"
  }
 },
 "nbformat": 4,
 "nbformat_minor": 5
}
